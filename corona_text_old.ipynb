{
 "cells": [
  {
   "cell_type": "markdown",
   "metadata": {},
   "source": [
    "## Text blob analyysis on \"Coronavirus Related Tweets\""
   ]
  },
  {
   "cell_type": "code",
   "execution_count": 6,
   "metadata": {},
   "outputs": [],
   "source": [
    "from textblob import TextBlob\n",
    "import tweepy\n",
    "from tweepy import OAuthHandler\n",
    " \n",
    "consumer_key = ''\n",
    "consumer_secret = ''\n",
    "access_token = ''\n",
    "access_secret = ''\n",
    "# Authenticate your application \n",
    "auth = OAuthHandler(consumer_key, consumer_secret)\n",
    "auth.set_access_token(access_token, access_secret)\n",
    " \n",
    "api = tweepy.API(auth)"
   ]
  },
  {
   "cell_type": "code",
   "execution_count": 7,
   "metadata": {},
   "outputs": [],
   "source": [
    " ''' \n",
    "Utility function to clean tweet text by removing links, special characters  \n",
    "'''\n",
    "def cleanTweet(tweet):\n",
    "        # Remove Links, Special Characters etc from tweet\n",
    "        return ' '.join(re.sub(\"(@[A-Za-z0-9]+)|([^0-9A-Za-z \\t]) | (\\w +:\\ / \\ / \\S +)\", \" \", tweet).split())\n",
    "\n",
    "def percentage(part, whole):\n",
    "    \n",
    "    temp = 100 * float(part) / float(whole)\n",
    "    return format(temp, '.2f')\n",
    "\n",
    "def plotPieChart(positive, wpositive, spositive, negative, wnegative, snegative, neutral, searchTerm, noOfSearchTerms):\n",
    "    labels = ['Positive [' + str(positive) + '%]', 'Weakly Positive [' + str(wpositive) + '%]','Strongly Positive [' + str(spositive) + '%]', 'Neutral [' + str(neutral) + '%]',\n",
    "              'Negative [' + str(negative) + '%]', 'Weakly Negative [' + str(wnegative) + '%]', 'Strongly Negative [' + str(snegative) + '%]']\n",
    "    sizes = [positive, wpositive, spositive, neutral, negative, wnegative, snegative]\n",
    "    colors = ['blue','green','darkgreen', 'gold', 'yellow','lightsalmon','darkred']\n",
    "    patches, texts = plt.pie(sizes, colors=colors, startangle=90)\n",
    "    plt.legend(patches, labels, loc=\"best\")\n",
    "    plt.title('Reactions of people on ' + searchTerm + ' by analyzing ' + str(noOfSearchTerms) + ' Tweets.')\n",
    "    plt.axis('equal')\n",
    "    plt.tight_layout()\n",
    "    plt.show()\n"
   ]
  },
  {
   "cell_type": "markdown",
   "metadata": {},
   "source": [
    "The polarity score is a float within the range [-1.0, 1.0] where negative value indicates negative text and positive value indicates that the given text is positive.\n",
    "\n",
    "The subjectivity is a float within the range [0.0, 1.0] where 0.0 is very objective and 1.0 is very subjective."
   ]
  },
  {
   "cell_type": "code",
   "execution_count": 8,
   "metadata": {},
   "outputs": [
    {
     "name": "stdout",
     "output_type": "stream",
     "text": [
      "the item you want to search:coronavirus\n",
      "Enter how many tweets to search: 1000\n"
     ]
    }
   ],
   "source": [
    "import sys,tweepy,csv,re\n",
    "from textblob import TextBlob\n",
    "import matplotlib.pyplot as plt\n",
    "tweets = []\n",
    "tweetText = []\n",
    "d = {}\n",
    "searchTerm = input(\"the item you want to search:\")\n",
    "NoOfTerms = int(input(\"Enter how many tweets to search: \"))\n",
    "\n",
    "        # searching for tweets\n",
    "tweets = tweepy.Cursor(api.search, q=searchTerm, lang = \"en\").items(NoOfTerms)\n",
    "csvFile = open('Covid.csv', 'a')\n",
    "\n",
    "        # Use csv writer\n",
    "csvWriter = csv.writer(csvFile)\n",
    "\n",
    "        # creating some variables to store info\n",
    "polarity = 0\n",
    "positive = 0\n",
    "wpositive = 0\n",
    "spositive = 0\n",
    "negative = 0\n",
    "wnegative = 0\n",
    "snegative = 0\n",
    "neutral = 0\n",
    "for tweet in tweets:\n",
    "      \n",
    "    #Append to temp so that we can store in csv later. I use encode UTF-8\n",
    "    tweetText.append(cleanTweet(tweet.text).encode('utf-8'))\n",
    "    # print (tweet.text.translate(non_bmp_map))    #print tweet's text\n",
    "    analysis = TextBlob(tweet.text)\n",
    "    # print(analysis.sentiment)  # print tweet's polarity\n",
    "    polarity += analysis.sentiment.polarity  # adding up polarities to find the average later\n",
    "    subjectivity= analysis.sentiment.polarity\n",
    "\n",
    "    if (analysis.sentiment.polarity == 0):  # adding reaction of how people are reacting to find average later\n",
    "        neutral += 1\n",
    "    elif (analysis.sentiment.polarity > 0 and analysis.sentiment.polarity <= 0.3):\n",
    "        wpositive += 1\n",
    "    elif (analysis.sentiment.polarity > 0.3 and analysis.sentiment.polarity <= 0.6):\n",
    "        positive += 1\n",
    "    elif (analysis.sentiment.polarity > 0.6 and analysis.sentiment.polarity <= 1):\n",
    "        spositive += 1\n",
    "    elif (analysis.sentiment.polarity > -0.3 and analysis.sentiment.polarity <= 0):\n",
    "        wnegative += 1\n",
    "    elif (analysis.sentiment.polarity > -0.6 and analysis.sentiment.polarity <= -0.3):\n",
    "        negative += 1\n",
    "    elif (analysis.sentiment.polarity > -1 and analysis.sentiment.polarity <= -0.6):\n",
    "        snegative += 1\n",
    "        # Write to csv and close csv file\n",
    "csvWriter.writerow(tweetText)\n",
    "csvFile.close()"
   ]
  },
  {
   "cell_type": "code",
   "execution_count": 13,
   "metadata": {},
   "outputs": [
    {
     "name": "stdout",
     "output_type": "stream",
     "text": [
      "People reactions on coronavirus by analyzing 1000 tweets.\n",
      "\n",
      "General Report: \n",
      "Weakly Positive\n"
     ]
    }
   ],
   "source": [
    "# finding average of how people are reacting\n",
    "positive = percentage(positive, NoOfTerms)\n",
    "wpositive = percentage(wpositive, NoOfTerms)\n",
    "spositive = percentage(spositive, NoOfTerms)\n",
    "negative =  percentage(negative, NoOfTerms)\n",
    "wnegative = percentage(wnegative, NoOfTerms)\n",
    "snegative = percentage(snegative, NoOfTerms)\n",
    "neutral = percentage(neutral, NoOfTerms)\n",
    "\n",
    "# finding average reaction\n",
    "polarity = polarity / NoOfTerms\n",
    "\n",
    "# printing out data\n",
    "print(\"People reactions on \" + searchTerm + \" by analyzing \" + str(NoOfTerms) + \" tweets.\")\n",
    "print()\n",
    "print(\"General Report: \")\n",
    "if (polarity == 0):\n",
    "    print(\"Neutral\")\n",
    "elif (polarity > 0 and polarity <= 0.3):\n",
    "    print(\"Weakly Positive\")\n",
    "elif (polarity > 0.3 and polarity <= 0.6):\n",
    "    print(\"Positive\")\n",
    "elif (polarity > 0.6 and polarity <= 1):\n",
    "    print(\"Strongly Positive\")\n",
    "elif (polarity > -0.3 and polarity <= 0):\n",
    "    print(\"Weakly Negative\")\n",
    "elif (polarity > -0.6 and polarity <= -0.3):\n",
    "    print(\"Negative\")\n",
    "elif (polarity > -1 and polarity <= -0.6):\n",
    "    print(\"Strongly Negative\")"
   ]
  },
  {
   "cell_type": "code",
   "execution_count": 10,
   "metadata": {},
   "outputs": [
    {
     "name": "stdout",
     "output_type": "stream",
     "text": [
      "\n",
      "Report: \n",
      "8.60% people thinks it is positive\n",
      "22.70% people thinks it is weakly positive\n",
      "1.30% people thinks it is strongly positive\n",
      "4.00% people thinks it is negative\n",
      "20.00% people thinks it is weakly negative\n",
      "0.80% people thinks it is strongly negative\n",
      "42.10% people thinks it is neutral\n"
     ]
    }
   ],
   "source": [
    "print()\n",
    "print(\"Report: \")\n",
    "print(str(positive) + \"% people thinks it is positive\")\n",
    "print(str(wpositive) + \"% people thinks it is weakly positive\")\n",
    "print(str(spositive) + \"% people thinks it is strongly positive\")\n",
    "print(str(negative) + \"% people thinks it is negative\")\n",
    "print(str(wnegative) + \"% people thinks it is weakly negative\")\n",
    "print(str(snegative) + \"% people thinks it is strongly negative\")\n",
    "print(str(neutral) + \"% people thinks it is neutral\")"
   ]
  },
  {
   "cell_type": "code",
   "execution_count": 11,
   "metadata": {},
   "outputs": [
    {
     "data": {
      "image/png": "[encoded data removed]",
      "text/plain": [
       "<Figure size 432x288 with 1 Axes>"
      ]
     },
     "metadata": {},
     "output_type": "display_data"
    }
   ],
   "source": [
    "plotPieChart(positive, wpositive, spositive, negative, wnegative, snegative, neutral, searchTerm, NoOfTerms)"
   ]
  },
  {
   "cell_type": "code",
   "execution_count": null,
   "metadata": {},
   "outputs": [],
   "source": []
  }
 ],
 "metadata": {
  "kernelspec": {
   "display_name": "Python 3",
   "language": "python",
   "name": "python3"
  },
  "language_info": {
   "codemirror_mode": {
    "name": "ipython",
    "version": 3
   },
   "file_extension": ".py",
   "mimetype": "text/x-python",
   "name": "python",
   "nbconvert_exporter": "python",
   "pygments_lexer": "ipython3",
   "version": "3.7.1"
  }
 },
 "nbformat": 4,
 "nbformat_minor": 2
}
